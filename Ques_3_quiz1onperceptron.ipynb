{
  "nbformat": 4,
  "nbformat_minor": 0,
  "metadata": {
    "kernelspec": {
      "display_name": "Python 3",
      "language": "python",
      "name": "python3"
    },
    "language_info": {
      "codemirror_mode": {
        "name": "ipython",
        "version": 3
      },
      "file_extension": ".py",
      "mimetype": "text/x-python",
      "name": "python",
      "nbconvert_exporter": "python",
      "pygments_lexer": "ipython3",
      "version": "3.6.9"
    },
    "colab": {
      "name": "Ques_3_quiz1onperceptron.ipynb",
      "provenance": [],
      "include_colab_link": true
    }
  },
  "cells": [
    {
      "cell_type": "markdown",
      "metadata": {
        "id": "view-in-github",
        "colab_type": "text"
      },
      "source": [
        "<a href=\"https://colab.research.google.com/github/Ashujain121/Assignment_2/blob/master/Ques_3_quiz1onperceptron.ipynb\" target=\"_parent\"><img src=\"https://colab.research.google.com/assets/colab-badge.svg\" alt=\"Open In Colab\"/></a>"
      ]
    },
    {
      "cell_type": "code",
      "metadata": {
        "id": "MYPqSU0rc5Pq",
        "colab_type": "code",
        "colab": {}
      },
      "source": [
        "import numpy as np\n",
        "import matplotlib.pyplot as plt\n",
        "import pandas as pd"
      ],
      "execution_count": 0,
      "outputs": []
    },
    {
      "cell_type": "code",
      "metadata": {
        "id": "N_Z8fZZZc5P1",
        "colab_type": "code",
        "colab": {}
      },
      "source": [
        "def hypothesis(x,w,b):\n",
        "    '''accepts input vector x, input weight vector w and bias b'''\n",
        "    \n",
        "    h = np.dot(x,w) + b\n",
        "    if h>=0:\n",
        "        return 1\n",
        "    else:\n",
        "        return 0\n",
        "    \n",
        "    return np.array(ans)\n",
        "\n",
        "    \n",
        "def get_acc(x_tst,y_tst,w,b):\n",
        "    \n",
        "    count = 0\n",
        "    for ix in range(x_tst.shape[0]):\n",
        "        hx = hypothesis(x_tst[ix],w,b)\n",
        "        if(hx==y_tst[ix]):\n",
        "            count+=1\n",
        "      \n",
        "    return  float(count)/y_tst.shape[0]\n",
        "        \n",
        "\n",
        "def get_grads(y_true,x,w,b):\n",
        "    \n",
        "    grad_w = np.zeros(w.shape)\n",
        "    grad_b = 0.0\n",
        "    \n",
        "    m = x.shape[0]\n",
        "    \n",
        "    for i in range(m):\n",
        "        hx = hypothesis(x[i],w,b)\n",
        "        \n",
        "        grad_w += (y_true[i] - hx)*x[i]\n",
        "        grad_b +=  (y_true[i]-hx)\n",
        "        \n",
        "    \n",
        "    grad_w /= m\n",
        "    grad_b /= m\n",
        "    \n",
        "    return [grad_w,grad_b]\n",
        "\n",
        "\n",
        "# One Iteration of Gradient Descent\n",
        "def grad_descent(x,y_true,w,b,learning_rate=0.1):\n",
        "    \n",
        "    count = 0\n",
        "    acc = 0\n",
        "    while(acc!=1):\n",
        "        [grad_w,grad_b] = get_grads(y_true[count:count+1],x[count:count+1],w,b)\n",
        "    \n",
        "        w = w + learning_rate*grad_w\n",
        "        b = b + learning_rate*grad_b\n",
        "        count+=1\n",
        "        count%=x.shape[0]\n",
        "        acc = get_acc(x,y_true,w,b)\n",
        "#         break\n",
        "    \n",
        "    return w,b"
      ],
      "execution_count": 0,
      "outputs": []
    },
    {
      "cell_type": "code",
      "metadata": {
        "id": "_hXlxU_sc5P-",
        "colab_type": "code",
        "colab": {},
        "outputId": "74f44883-9010-41d0-a081-74bdde11dd8c"
      },
      "source": [
        "\n",
        "xdata = np.array([[1,0,0,0],\n",
        "                 [1,0,0,1],\n",
        "                 [1,0,1,0],\n",
        "                 [1,0,1,1],\n",
        "                 [1,1,0,0],\n",
        "                 [1,1,0,1],\n",
        "                 [1,1,1,0],\n",
        "                 [1,1,1,1]])\n",
        "ydata = np.array([0,1,1,1,1,1,1,1])\n",
        "print(xdata.shape)\n",
        "print(ydata.shape)"
      ],
      "execution_count": 0,
      "outputs": [
        {
          "output_type": "stream",
          "text": [
            "(8, 4)\n",
            "(8,)\n"
          ],
          "name": "stdout"
        }
      ]
    },
    {
      "cell_type": "code",
      "metadata": {
        "id": "qT5YARYqc5QJ",
        "colab_type": "code",
        "colab": {}
      },
      "source": [
        "w = np.array([-1,0,-1,2])\n",
        "b = 0"
      ],
      "execution_count": 0,
      "outputs": []
    },
    {
      "cell_type": "code",
      "metadata": {
        "id": "da7ekY1jc5QP",
        "colab_type": "code",
        "colab": {}
      },
      "source": [
        "w,b = grad_descent(xdata,ydata,w,b,1)"
      ],
      "execution_count": 0,
      "outputs": []
    },
    {
      "cell_type": "code",
      "metadata": {
        "id": "FwWFuxmOc5QW",
        "colab_type": "code",
        "colab": {},
        "outputId": "d535a82f-5d5a-4114-c851-382b04f85859"
      },
      "source": [
        "print(w,b)"
      ],
      "execution_count": 0,
      "outputs": [
        {
          "output_type": "stream",
          "text": [
            "[-1.  1.  1.  2.] 0.0\n"
          ],
          "name": "stdout"
        }
      ]
    }
  ]
}